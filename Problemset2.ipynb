{
  "nbformat": 4,
  "nbformat_minor": 0,
  "metadata": {
    "colab": {
      "name": "Problemset2.ipynb",
      "version": "0.3.2",
      "provenance": [],
      "collapsed_sections": [],
      "toc_visible": true,
      "include_colab_link": true
    },
    "language_info": {
      "codemirror_mode": {
        "name": "ipython",
        "version": 3
      },
      "file_extension": ".py",
      "mimetype": "text/x-python",
      "name": "python",
      "nbconvert_exporter": "python",
      "pygments_lexer": "ipython3",
      "version": "3.6.1"
    },
    "kernelspec": {
      "display_name": "Python 3",
      "language": "python",
      "name": "python3"
    }
  },
  "cells": [
    {
      "cell_type": "markdown",
      "metadata": {
        "id": "view-in-github",
        "colab_type": "text"
      },
      "source": [
        "<a href=\"https://colab.research.google.com/github/hane-momiji/IndustrialOrganization/blob/master/Problemset2.ipynb\" target=\"_parent\"><img src=\"https://colab.research.google.com/assets/colab-badge.svg\" alt=\"Open In Colab\"/></a>"
      ]
    },
    {
      "cell_type": "code",
      "metadata": {
        "id": "x4SkdLu0r2jp",
        "colab_type": "code",
        "colab": {}
      },
      "source": [
        "import numpy as np\n",
        "import pandas as pd\n",
        "import matplotlib.pyplot as plt\n",
        "\n",
        "rng = np.random.RandomState(1234)"
      ],
      "execution_count": 0,
      "outputs": []
    },
    {
      "cell_type": "markdown",
      "metadata": {
        "id": "IS_wf7DYr2jv",
        "colab_type": "text"
      },
      "source": [
        "# Chapter 1: Import data\n"
      ]
    },
    {
      "cell_type": "markdown",
      "metadata": {
        "id": "mP8ivwygvGLF",
        "colab_type": "text"
      },
      "source": [
        "### Data structure\n",
        "1. Firm ID\n",
        "2. Periods\n",
        "3. State\n",
        "4. Action\n",
        "\n",
        "Thus, we'll calculate the transition probability of each transition and make new variable. To do so, we add\n",
        "5. Next_state\n",
        "7. Log-transition probability\n",
        "6. Transition probability"
      ]
    },
    {
      "cell_type": "markdown",
      "metadata": {
        "id": "_uO6oonwv5md",
        "colab_type": "text"
      },
      "source": [
        "### Transition Probability"
      ]
    },
    {
      "cell_type": "markdown",
      "metadata": {
        "id": "O7aGgOYTv_l-",
        "colab_type": "text"
      },
      "source": [
        "$$\n",
        "P_0 = \n",
        "\\begin{align}\n",
        "\\begin{bmatrix}\n",
        "1 & 0 & 0 & 0 & 0\\\\\n",
        "\\kappa & 1 - \\kappa & 0 & 0 & 0\\\\\n",
        "0 & \\kappa &  1- \\kappa & 0 & 0\\\\\n",
        "0 & 0 & \\kappa & 1- \\kappa & 0\\\\\n",
        "0 & 0 & 0 & \\kappa & 1- \\kappa \n",
        "\\end{bmatrix} \n",
        "\\end{align}\n",
        "$$"
      ]
    },
    {
      "cell_type": "markdown",
      "metadata": {
        "id": "8aiteoSLxOWo",
        "colab_type": "text"
      },
      "source": [
        "$$\n",
        "\\begin{align}\n",
        "P_1 = \n",
        "\\begin{bmatrix}\n",
        "1-\\gamma & \\gamma & 0 & 0 & 0\\\\\n",
        "\\kappa & 1 - \\kappa - \\gamma & \\gamma & 0 & 0\\\\\n",
        "0 & \\kappa & 1- \\kappa - \\gamma & \\gamma & 0\\\\\n",
        "0 & 0 & \\kappa & 1 - \\kappa - \\gamma & \\gamma\\\\\n",
        "0 & 0 & 0 & \\kappa &  1 - \\kappa \n",
        "\\end{bmatrix}\n",
        "\\end{align}\n",
        "$$"
      ]
    },
    {
      "cell_type": "markdown",
      "metadata": {
        "id": "y85D7bQFxWdU",
        "colab_type": "text"
      },
      "source": [
        "### Term profit of firm\n",
        "$$\n",
        "\\pi(s_t, a_t) = \\alpha \\ln(s_t) - \\beta a_t + \\varepsilon(a_t)\n",
        "$$"
      ]
    },
    {
      "cell_type": "code",
      "metadata": {
        "id": "rzVTDH7EsnEf",
        "colab_type": "code",
        "outputId": "15f07a1e-3729-40bc-93f6-ba9a309ebc6c",
        "colab": {
          "base_uri": "https://localhost:8080/",
          "height": 122
        }
      },
      "source": [
        "# Google ドライブをマウントするには、このセルを実行してください。\n",
        "from google.colab import drive\n",
        "drive.mount('/content/drive')"
      ],
      "execution_count": 0,
      "outputs": [
        {
          "output_type": "stream",
          "text": [
            "Go to this URL in a browser: https://accounts.google.com/o/oauth2/auth?client_id=947318989803-6bn6qk8qdgf4n4g3pfee6491hc0brc4i.apps.googleusercontent.com&redirect_uri=urn%3Aietf%3Awg%3Aoauth%3A2.0%3Aoob&scope=email%20https%3A%2F%2Fwww.googleapis.com%2Fauth%2Fdocs.test%20https%3A%2F%2Fwww.googleapis.com%2Fauth%2Fdrive%20https%3A%2F%2Fwww.googleapis.com%2Fauth%2Fdrive.photos.readonly%20https%3A%2F%2Fwww.googleapis.com%2Fauth%2Fpeopleapi.readonly&response_type=code\n",
            "\n",
            "Enter your authorization code:\n",
            "··········\n",
            "Mounted at /content/drive\n"
          ],
          "name": "stdout"
        }
      ]
    },
    {
      "cell_type": "code",
      "metadata": {
        "id": "Ihv7xvk8r2jx",
        "colab_type": "code",
        "outputId": "30838089-86d0-4a5c-fdb3-b363bf917bc5",
        "colab": {
          "base_uri": "https://localhost:8080/",
          "height": 1000
        }
      },
      "source": [
        "dat = pd.read_csv('/content/drive/My Drive/Colab Notebooks/data_IO/PS2019GIO2data1.csv', names = [\"firmID\", \"time\", \"state\", \"action\"])\n",
        "dat.tail(100)"
      ],
      "execution_count": 0,
      "outputs": [
        {
          "output_type": "execute_result",
          "data": {
            "text/html": [
              "<div>\n",
              "<style scoped>\n",
              "    .dataframe tbody tr th:only-of-type {\n",
              "        vertical-align: middle;\n",
              "    }\n",
              "\n",
              "    .dataframe tbody tr th {\n",
              "        vertical-align: top;\n",
              "    }\n",
              "\n",
              "    .dataframe thead th {\n",
              "        text-align: right;\n",
              "    }\n",
              "</style>\n",
              "<table border=\"1\" class=\"dataframe\">\n",
              "  <thead>\n",
              "    <tr style=\"text-align: right;\">\n",
              "      <th></th>\n",
              "      <th>firmID</th>\n",
              "      <th>time</th>\n",
              "      <th>state</th>\n",
              "      <th>action</th>\n",
              "    </tr>\n",
              "  </thead>\n",
              "  <tbody>\n",
              "    <tr>\n",
              "      <th>99900</th>\n",
              "      <td>1000</td>\n",
              "      <td>1</td>\n",
              "      <td>5</td>\n",
              "      <td>0</td>\n",
              "    </tr>\n",
              "    <tr>\n",
              "      <th>99901</th>\n",
              "      <td>1000</td>\n",
              "      <td>2</td>\n",
              "      <td>5</td>\n",
              "      <td>0</td>\n",
              "    </tr>\n",
              "    <tr>\n",
              "      <th>99902</th>\n",
              "      <td>1000</td>\n",
              "      <td>3</td>\n",
              "      <td>5</td>\n",
              "      <td>0</td>\n",
              "    </tr>\n",
              "    <tr>\n",
              "      <th>99903</th>\n",
              "      <td>1000</td>\n",
              "      <td>4</td>\n",
              "      <td>5</td>\n",
              "      <td>0</td>\n",
              "    </tr>\n",
              "    <tr>\n",
              "      <th>99904</th>\n",
              "      <td>1000</td>\n",
              "      <td>5</td>\n",
              "      <td>5</td>\n",
              "      <td>1</td>\n",
              "    </tr>\n",
              "    <tr>\n",
              "      <th>99905</th>\n",
              "      <td>1000</td>\n",
              "      <td>6</td>\n",
              "      <td>5</td>\n",
              "      <td>0</td>\n",
              "    </tr>\n",
              "    <tr>\n",
              "      <th>99906</th>\n",
              "      <td>1000</td>\n",
              "      <td>7</td>\n",
              "      <td>5</td>\n",
              "      <td>0</td>\n",
              "    </tr>\n",
              "    <tr>\n",
              "      <th>99907</th>\n",
              "      <td>1000</td>\n",
              "      <td>8</td>\n",
              "      <td>5</td>\n",
              "      <td>0</td>\n",
              "    </tr>\n",
              "    <tr>\n",
              "      <th>99908</th>\n",
              "      <td>1000</td>\n",
              "      <td>9</td>\n",
              "      <td>5</td>\n",
              "      <td>0</td>\n",
              "    </tr>\n",
              "    <tr>\n",
              "      <th>99909</th>\n",
              "      <td>1000</td>\n",
              "      <td>10</td>\n",
              "      <td>5</td>\n",
              "      <td>0</td>\n",
              "    </tr>\n",
              "    <tr>\n",
              "      <th>99910</th>\n",
              "      <td>1000</td>\n",
              "      <td>11</td>\n",
              "      <td>4</td>\n",
              "      <td>0</td>\n",
              "    </tr>\n",
              "    <tr>\n",
              "      <th>99911</th>\n",
              "      <td>1000</td>\n",
              "      <td>12</td>\n",
              "      <td>4</td>\n",
              "      <td>0</td>\n",
              "    </tr>\n",
              "    <tr>\n",
              "      <th>99912</th>\n",
              "      <td>1000</td>\n",
              "      <td>13</td>\n",
              "      <td>4</td>\n",
              "      <td>0</td>\n",
              "    </tr>\n",
              "    <tr>\n",
              "      <th>99913</th>\n",
              "      <td>1000</td>\n",
              "      <td>14</td>\n",
              "      <td>4</td>\n",
              "      <td>0</td>\n",
              "    </tr>\n",
              "    <tr>\n",
              "      <th>99914</th>\n",
              "      <td>1000</td>\n",
              "      <td>15</td>\n",
              "      <td>4</td>\n",
              "      <td>0</td>\n",
              "    </tr>\n",
              "    <tr>\n",
              "      <th>99915</th>\n",
              "      <td>1000</td>\n",
              "      <td>16</td>\n",
              "      <td>4</td>\n",
              "      <td>0</td>\n",
              "    </tr>\n",
              "    <tr>\n",
              "      <th>99916</th>\n",
              "      <td>1000</td>\n",
              "      <td>17</td>\n",
              "      <td>4</td>\n",
              "      <td>1</td>\n",
              "    </tr>\n",
              "    <tr>\n",
              "      <th>99917</th>\n",
              "      <td>1000</td>\n",
              "      <td>18</td>\n",
              "      <td>5</td>\n",
              "      <td>0</td>\n",
              "    </tr>\n",
              "    <tr>\n",
              "      <th>99918</th>\n",
              "      <td>1000</td>\n",
              "      <td>19</td>\n",
              "      <td>5</td>\n",
              "      <td>0</td>\n",
              "    </tr>\n",
              "    <tr>\n",
              "      <th>99919</th>\n",
              "      <td>1000</td>\n",
              "      <td>20</td>\n",
              "      <td>5</td>\n",
              "      <td>0</td>\n",
              "    </tr>\n",
              "    <tr>\n",
              "      <th>99920</th>\n",
              "      <td>1000</td>\n",
              "      <td>21</td>\n",
              "      <td>5</td>\n",
              "      <td>0</td>\n",
              "    </tr>\n",
              "    <tr>\n",
              "      <th>99921</th>\n",
              "      <td>1000</td>\n",
              "      <td>22</td>\n",
              "      <td>4</td>\n",
              "      <td>0</td>\n",
              "    </tr>\n",
              "    <tr>\n",
              "      <th>99922</th>\n",
              "      <td>1000</td>\n",
              "      <td>23</td>\n",
              "      <td>4</td>\n",
              "      <td>0</td>\n",
              "    </tr>\n",
              "    <tr>\n",
              "      <th>99923</th>\n",
              "      <td>1000</td>\n",
              "      <td>24</td>\n",
              "      <td>3</td>\n",
              "      <td>0</td>\n",
              "    </tr>\n",
              "    <tr>\n",
              "      <th>99924</th>\n",
              "      <td>1000</td>\n",
              "      <td>25</td>\n",
              "      <td>3</td>\n",
              "      <td>0</td>\n",
              "    </tr>\n",
              "    <tr>\n",
              "      <th>99925</th>\n",
              "      <td>1000</td>\n",
              "      <td>26</td>\n",
              "      <td>3</td>\n",
              "      <td>0</td>\n",
              "    </tr>\n",
              "    <tr>\n",
              "      <th>99926</th>\n",
              "      <td>1000</td>\n",
              "      <td>27</td>\n",
              "      <td>3</td>\n",
              "      <td>0</td>\n",
              "    </tr>\n",
              "    <tr>\n",
              "      <th>99927</th>\n",
              "      <td>1000</td>\n",
              "      <td>28</td>\n",
              "      <td>3</td>\n",
              "      <td>0</td>\n",
              "    </tr>\n",
              "    <tr>\n",
              "      <th>99928</th>\n",
              "      <td>1000</td>\n",
              "      <td>29</td>\n",
              "      <td>3</td>\n",
              "      <td>0</td>\n",
              "    </tr>\n",
              "    <tr>\n",
              "      <th>99929</th>\n",
              "      <td>1000</td>\n",
              "      <td>30</td>\n",
              "      <td>3</td>\n",
              "      <td>0</td>\n",
              "    </tr>\n",
              "    <tr>\n",
              "      <th>...</th>\n",
              "      <td>...</td>\n",
              "      <td>...</td>\n",
              "      <td>...</td>\n",
              "      <td>...</td>\n",
              "    </tr>\n",
              "    <tr>\n",
              "      <th>99970</th>\n",
              "      <td>1000</td>\n",
              "      <td>71</td>\n",
              "      <td>5</td>\n",
              "      <td>0</td>\n",
              "    </tr>\n",
              "    <tr>\n",
              "      <th>99971</th>\n",
              "      <td>1000</td>\n",
              "      <td>72</td>\n",
              "      <td>5</td>\n",
              "      <td>0</td>\n",
              "    </tr>\n",
              "    <tr>\n",
              "      <th>99972</th>\n",
              "      <td>1000</td>\n",
              "      <td>73</td>\n",
              "      <td>5</td>\n",
              "      <td>0</td>\n",
              "    </tr>\n",
              "    <tr>\n",
              "      <th>99973</th>\n",
              "      <td>1000</td>\n",
              "      <td>74</td>\n",
              "      <td>5</td>\n",
              "      <td>0</td>\n",
              "    </tr>\n",
              "    <tr>\n",
              "      <th>99974</th>\n",
              "      <td>1000</td>\n",
              "      <td>75</td>\n",
              "      <td>5</td>\n",
              "      <td>0</td>\n",
              "    </tr>\n",
              "    <tr>\n",
              "      <th>99975</th>\n",
              "      <td>1000</td>\n",
              "      <td>76</td>\n",
              "      <td>5</td>\n",
              "      <td>0</td>\n",
              "    </tr>\n",
              "    <tr>\n",
              "      <th>99976</th>\n",
              "      <td>1000</td>\n",
              "      <td>77</td>\n",
              "      <td>5</td>\n",
              "      <td>0</td>\n",
              "    </tr>\n",
              "    <tr>\n",
              "      <th>99977</th>\n",
              "      <td>1000</td>\n",
              "      <td>78</td>\n",
              "      <td>5</td>\n",
              "      <td>0</td>\n",
              "    </tr>\n",
              "    <tr>\n",
              "      <th>99978</th>\n",
              "      <td>1000</td>\n",
              "      <td>79</td>\n",
              "      <td>5</td>\n",
              "      <td>0</td>\n",
              "    </tr>\n",
              "    <tr>\n",
              "      <th>99979</th>\n",
              "      <td>1000</td>\n",
              "      <td>80</td>\n",
              "      <td>5</td>\n",
              "      <td>0</td>\n",
              "    </tr>\n",
              "    <tr>\n",
              "      <th>99980</th>\n",
              "      <td>1000</td>\n",
              "      <td>81</td>\n",
              "      <td>5</td>\n",
              "      <td>1</td>\n",
              "    </tr>\n",
              "    <tr>\n",
              "      <th>99981</th>\n",
              "      <td>1000</td>\n",
              "      <td>82</td>\n",
              "      <td>5</td>\n",
              "      <td>0</td>\n",
              "    </tr>\n",
              "    <tr>\n",
              "      <th>99982</th>\n",
              "      <td>1000</td>\n",
              "      <td>83</td>\n",
              "      <td>5</td>\n",
              "      <td>0</td>\n",
              "    </tr>\n",
              "    <tr>\n",
              "      <th>99983</th>\n",
              "      <td>1000</td>\n",
              "      <td>84</td>\n",
              "      <td>4</td>\n",
              "      <td>1</td>\n",
              "    </tr>\n",
              "    <tr>\n",
              "      <th>99984</th>\n",
              "      <td>1000</td>\n",
              "      <td>85</td>\n",
              "      <td>4</td>\n",
              "      <td>0</td>\n",
              "    </tr>\n",
              "    <tr>\n",
              "      <th>99985</th>\n",
              "      <td>1000</td>\n",
              "      <td>86</td>\n",
              "      <td>4</td>\n",
              "      <td>0</td>\n",
              "    </tr>\n",
              "    <tr>\n",
              "      <th>99986</th>\n",
              "      <td>1000</td>\n",
              "      <td>87</td>\n",
              "      <td>4</td>\n",
              "      <td>0</td>\n",
              "    </tr>\n",
              "    <tr>\n",
              "      <th>99987</th>\n",
              "      <td>1000</td>\n",
              "      <td>88</td>\n",
              "      <td>4</td>\n",
              "      <td>0</td>\n",
              "    </tr>\n",
              "    <tr>\n",
              "      <th>99988</th>\n",
              "      <td>1000</td>\n",
              "      <td>89</td>\n",
              "      <td>3</td>\n",
              "      <td>0</td>\n",
              "    </tr>\n",
              "    <tr>\n",
              "      <th>99989</th>\n",
              "      <td>1000</td>\n",
              "      <td>90</td>\n",
              "      <td>3</td>\n",
              "      <td>0</td>\n",
              "    </tr>\n",
              "    <tr>\n",
              "      <th>99990</th>\n",
              "      <td>1000</td>\n",
              "      <td>91</td>\n",
              "      <td>3</td>\n",
              "      <td>0</td>\n",
              "    </tr>\n",
              "    <tr>\n",
              "      <th>99991</th>\n",
              "      <td>1000</td>\n",
              "      <td>92</td>\n",
              "      <td>3</td>\n",
              "      <td>0</td>\n",
              "    </tr>\n",
              "    <tr>\n",
              "      <th>99992</th>\n",
              "      <td>1000</td>\n",
              "      <td>93</td>\n",
              "      <td>3</td>\n",
              "      <td>0</td>\n",
              "    </tr>\n",
              "    <tr>\n",
              "      <th>99993</th>\n",
              "      <td>1000</td>\n",
              "      <td>94</td>\n",
              "      <td>3</td>\n",
              "      <td>0</td>\n",
              "    </tr>\n",
              "    <tr>\n",
              "      <th>99994</th>\n",
              "      <td>1000</td>\n",
              "      <td>95</td>\n",
              "      <td>3</td>\n",
              "      <td>0</td>\n",
              "    </tr>\n",
              "    <tr>\n",
              "      <th>99995</th>\n",
              "      <td>1000</td>\n",
              "      <td>96</td>\n",
              "      <td>3</td>\n",
              "      <td>1</td>\n",
              "    </tr>\n",
              "    <tr>\n",
              "      <th>99996</th>\n",
              "      <td>1000</td>\n",
              "      <td>97</td>\n",
              "      <td>2</td>\n",
              "      <td>1</td>\n",
              "    </tr>\n",
              "    <tr>\n",
              "      <th>99997</th>\n",
              "      <td>1000</td>\n",
              "      <td>98</td>\n",
              "      <td>3</td>\n",
              "      <td>1</td>\n",
              "    </tr>\n",
              "    <tr>\n",
              "      <th>99998</th>\n",
              "      <td>1000</td>\n",
              "      <td>99</td>\n",
              "      <td>3</td>\n",
              "      <td>0</td>\n",
              "    </tr>\n",
              "    <tr>\n",
              "      <th>99999</th>\n",
              "      <td>1000</td>\n",
              "      <td>100</td>\n",
              "      <td>3</td>\n",
              "      <td>0</td>\n",
              "    </tr>\n",
              "  </tbody>\n",
              "</table>\n",
              "<p>100 rows × 4 columns</p>\n",
              "</div>"
            ],
            "text/plain": [
              "       firmID  time  state  action\n",
              "99900    1000     1      5       0\n",
              "99901    1000     2      5       0\n",
              "99902    1000     3      5       0\n",
              "99903    1000     4      5       0\n",
              "99904    1000     5      5       1\n",
              "99905    1000     6      5       0\n",
              "99906    1000     7      5       0\n",
              "99907    1000     8      5       0\n",
              "99908    1000     9      5       0\n",
              "99909    1000    10      5       0\n",
              "99910    1000    11      4       0\n",
              "99911    1000    12      4       0\n",
              "99912    1000    13      4       0\n",
              "99913    1000    14      4       0\n",
              "99914    1000    15      4       0\n",
              "99915    1000    16      4       0\n",
              "99916    1000    17      4       1\n",
              "99917    1000    18      5       0\n",
              "99918    1000    19      5       0\n",
              "99919    1000    20      5       0\n",
              "99920    1000    21      5       0\n",
              "99921    1000    22      4       0\n",
              "99922    1000    23      4       0\n",
              "99923    1000    24      3       0\n",
              "99924    1000    25      3       0\n",
              "99925    1000    26      3       0\n",
              "99926    1000    27      3       0\n",
              "99927    1000    28      3       0\n",
              "99928    1000    29      3       0\n",
              "99929    1000    30      3       0\n",
              "...       ...   ...    ...     ...\n",
              "99970    1000    71      5       0\n",
              "99971    1000    72      5       0\n",
              "99972    1000    73      5       0\n",
              "99973    1000    74      5       0\n",
              "99974    1000    75      5       0\n",
              "99975    1000    76      5       0\n",
              "99976    1000    77      5       0\n",
              "99977    1000    78      5       0\n",
              "99978    1000    79      5       0\n",
              "99979    1000    80      5       0\n",
              "99980    1000    81      5       1\n",
              "99981    1000    82      5       0\n",
              "99982    1000    83      5       0\n",
              "99983    1000    84      4       1\n",
              "99984    1000    85      4       0\n",
              "99985    1000    86      4       0\n",
              "99986    1000    87      4       0\n",
              "99987    1000    88      4       0\n",
              "99988    1000    89      3       0\n",
              "99989    1000    90      3       0\n",
              "99990    1000    91      3       0\n",
              "99991    1000    92      3       0\n",
              "99992    1000    93      3       0\n",
              "99993    1000    94      3       0\n",
              "99994    1000    95      3       0\n",
              "99995    1000    96      3       1\n",
              "99996    1000    97      2       1\n",
              "99997    1000    98      3       1\n",
              "99998    1000    99      3       0\n",
              "99999    1000   100      3       0\n",
              "\n",
              "[100 rows x 4 columns]"
            ]
          },
          "metadata": {
            "tags": []
          },
          "execution_count": 5
        }
      ]
    },
    {
      "cell_type": "markdown",
      "metadata": {
        "id": "lFF8hOq_r2j6",
        "colab_type": "text"
      },
      "source": [
        "### Define parameters  and give init values\n"
      ]
    },
    {
      "cell_type": "code",
      "metadata": {
        "id": "E3U3EZy4r2j-",
        "colab_type": "code",
        "outputId": "ad02207b-e804-44e0-db55-4bc8a42af45a",
        "colab": {
          "base_uri": "https://localhost:8080/",
          "height": 272
        }
      },
      "source": [
        "delta = 0.95\n",
        "kappa = 0.2\n",
        "gamma = 0.1\n",
        "theta3 = [kappa, gamma]\n",
        "\n",
        "# Transition prob. matrices\n",
        "P0 = np.eye(5, dtype = float) - theta3[0]*np.eye(5, dtype = float)\n",
        "P0[0,0] = 1\n",
        "kap = np.eye(4, dtype = float)*theta3[0]\n",
        "kap = np.insert(np.insert(kap, obj = 0, values = 0, axis = 0), obj = 4, values = 0, axis = 1) # 4 * 4 -> 5 * 4 -> 5 * 5\n",
        "P0 += kap # defined transition prob. matrix when a = 0\n",
        "\n",
        "gam = np.eye(4, dtype = float)*theta3[1]\n",
        "gam_center = np.insert(np.insert(gam, obj = 4, values = 0, axis = 0), obj = 4, values = 0, axis = 1)\n",
        "gam_up = np.insert(np.insert(gam, obj = 0, values = 0, axis = 1), obj = 4, values = 0, axis = 0)\n",
        "P1 = P0 - gam_center + gam_up # defined transition prob. matrix when a = 1\n",
        "print(P0)\n",
        "print(P1) \n",
        "P2 = np.array(range(25))\n",
        "P2 = P2.reshape(5,5)\n",
        "print(P2)"
      ],
      "execution_count": 0,
      "outputs": [
        {
          "output_type": "stream",
          "text": [
            "[[1.  0.  0.  0.  0. ]\n",
            " [0.2 0.8 0.  0.  0. ]\n",
            " [0.  0.2 0.8 0.  0. ]\n",
            " [0.  0.  0.2 0.8 0. ]\n",
            " [0.  0.  0.  0.2 0.8]]\n",
            "[[0.9 0.1 0.  0.  0. ]\n",
            " [0.2 0.7 0.1 0.  0. ]\n",
            " [0.  0.2 0.7 0.1 0. ]\n",
            " [0.  0.  0.2 0.7 0.1]\n",
            " [0.  0.  0.  0.2 0.8]]\n",
            "[[ 0  1  2  3  4]\n",
            " [ 5  6  7  8  9]\n",
            " [10 11 12 13 14]\n",
            " [15 16 17 18 19]\n",
            " [20 21 22 23 24]]\n"
          ],
          "name": "stdout"
        }
      ]
    },
    {
      "cell_type": "markdown",
      "metadata": {
        "id": "5IHFpPwrr2kD",
        "colab_type": "text"
      },
      "source": [
        "#### data processing for describing the transition"
      ]
    },
    {
      "cell_type": "code",
      "metadata": {
        "id": "7mO4VzFSr2kE",
        "colab_type": "code",
        "colab": {}
      },
      "source": [
        "def np_log(x):\n",
        "    return np.log(np.clip(x, a_min = 1e-8, a_max = x)) \n",
        "\n",
        "dat['next_state'] = dat['state'].shift(periods = -1, axis = 0)\n",
        "data_trans = dat[dat['time'] != 100]\n",
        "data_trans = data_trans.astype('int8')\n",
        "# data_trans['logL'] = data_trans\n",
        "# data_trans = data_trans.values\n",
        "data_trans['logL'] = np.where(data_trans['action'] == 1, np_log(P1[data_trans['state'].astype('int8') -1, data_trans['next_state'].astype('int8')-1]), np_log(P0[data_trans['state'].astype('int8')-1, data_trans['next_state'].astype('int8')-1]))\n",
        "data_trans['L'] = np.where(data_trans['action'] == 1, (P1[data_trans['state'].astype('int8') -1, data_trans['next_state'].astype('int8')-1]), (P0[data_trans['state'].astype('int8')-1, data_trans['next_state'].astype('int8')-1]))\n",
        "data_trans['label'] = np.where(data_trans['action'] == 1, (P2[data_trans['state'].astype('int8') -1, data_trans['next_state'].astype('int8')-1]), (P2[data_trans['state'].astype('int8')-1, data_trans['next_state'].astype('int8')-1]))\n",
        "# data_trans.loc[data_trans['action'] == 1, 'logL'] = np_log(P1[(data_trans['state'] - 1), (data_trans['next_state']-1) ])\n",
        "# data_trans.loc[data_trans['action'] == 0, 'logL'] = np_log(P0[ (data_trans['state'] -1), (data_trans['next_state']-1)])\n",
        "# data_trans.loc[data_trans['action'] == 0, 'L'] = P2[(data_trans['state'] - 1), (data_trans['next_state'] - 1 )]\n",
        "# data_trans.loc[data_trans['action'] == 1, 'L'] = P2[(data_trans['state'] - 1), (data_trans['next_state']-1) ]\n",
        "# data_trans['L'] =  P2[(data_trans['state'] - 1), (data_trans['next_state']-1) ]\n",
        "# for i in range(len(data_trans)):\n",
        "#     if (data_trans[i, 3] == 0):\n",
        "#         data_trans['logL'][i] = P0[(data_trans[i, 2]), (data_trans[i,4])]\n",
        "#     else:\n",
        "#         data_trans['logL'][i] = P1[(data_trans[i, 2]), (data_trans[i, 4])]\n",
        "logL = data_trans['logL'].sum()"
      ],
      "execution_count": 0,
      "outputs": []
    },
    {
      "cell_type": "code",
      "metadata": {
        "id": "FS1E2Ylwr2kI",
        "colab_type": "code",
        "outputId": "6bf01d52-b2a3-476c-e554-88e5f920929b",
        "colab": {
          "base_uri": "https://localhost:8080/",
          "height": 359
        }
      },
      "source": [
        "data_trans.head(10)"
      ],
      "execution_count": 0,
      "outputs": [
        {
          "output_type": "execute_result",
          "data": {
            "text/html": [
              "<div>\n",
              "<style scoped>\n",
              "    .dataframe tbody tr th:only-of-type {\n",
              "        vertical-align: middle;\n",
              "    }\n",
              "\n",
              "    .dataframe tbody tr th {\n",
              "        vertical-align: top;\n",
              "    }\n",
              "\n",
              "    .dataframe thead th {\n",
              "        text-align: right;\n",
              "    }\n",
              "</style>\n",
              "<table border=\"1\" class=\"dataframe\">\n",
              "  <thead>\n",
              "    <tr style=\"text-align: right;\">\n",
              "      <th></th>\n",
              "      <th>firmID</th>\n",
              "      <th>time</th>\n",
              "      <th>state</th>\n",
              "      <th>action</th>\n",
              "      <th>next_state</th>\n",
              "      <th>logL</th>\n",
              "      <th>L</th>\n",
              "      <th>label</th>\n",
              "    </tr>\n",
              "  </thead>\n",
              "  <tbody>\n",
              "    <tr>\n",
              "      <th>0</th>\n",
              "      <td>1</td>\n",
              "      <td>1</td>\n",
              "      <td>2</td>\n",
              "      <td>1</td>\n",
              "      <td>3</td>\n",
              "      <td>-2.302585</td>\n",
              "      <td>0.1</td>\n",
              "      <td>7</td>\n",
              "    </tr>\n",
              "    <tr>\n",
              "      <th>1</th>\n",
              "      <td>1</td>\n",
              "      <td>2</td>\n",
              "      <td>3</td>\n",
              "      <td>0</td>\n",
              "      <td>3</td>\n",
              "      <td>-0.223144</td>\n",
              "      <td>0.8</td>\n",
              "      <td>12</td>\n",
              "    </tr>\n",
              "    <tr>\n",
              "      <th>2</th>\n",
              "      <td>1</td>\n",
              "      <td>3</td>\n",
              "      <td>3</td>\n",
              "      <td>0</td>\n",
              "      <td>3</td>\n",
              "      <td>-0.223144</td>\n",
              "      <td>0.8</td>\n",
              "      <td>12</td>\n",
              "    </tr>\n",
              "    <tr>\n",
              "      <th>3</th>\n",
              "      <td>1</td>\n",
              "      <td>4</td>\n",
              "      <td>3</td>\n",
              "      <td>0</td>\n",
              "      <td>3</td>\n",
              "      <td>-0.223144</td>\n",
              "      <td>0.8</td>\n",
              "      <td>12</td>\n",
              "    </tr>\n",
              "    <tr>\n",
              "      <th>4</th>\n",
              "      <td>1</td>\n",
              "      <td>5</td>\n",
              "      <td>3</td>\n",
              "      <td>0</td>\n",
              "      <td>3</td>\n",
              "      <td>-0.223144</td>\n",
              "      <td>0.8</td>\n",
              "      <td>12</td>\n",
              "    </tr>\n",
              "    <tr>\n",
              "      <th>5</th>\n",
              "      <td>1</td>\n",
              "      <td>6</td>\n",
              "      <td>3</td>\n",
              "      <td>0</td>\n",
              "      <td>3</td>\n",
              "      <td>-0.223144</td>\n",
              "      <td>0.8</td>\n",
              "      <td>12</td>\n",
              "    </tr>\n",
              "    <tr>\n",
              "      <th>6</th>\n",
              "      <td>1</td>\n",
              "      <td>7</td>\n",
              "      <td>3</td>\n",
              "      <td>0</td>\n",
              "      <td>2</td>\n",
              "      <td>-1.609438</td>\n",
              "      <td>0.2</td>\n",
              "      <td>11</td>\n",
              "    </tr>\n",
              "    <tr>\n",
              "      <th>7</th>\n",
              "      <td>1</td>\n",
              "      <td>8</td>\n",
              "      <td>2</td>\n",
              "      <td>0</td>\n",
              "      <td>2</td>\n",
              "      <td>-0.223144</td>\n",
              "      <td>0.8</td>\n",
              "      <td>6</td>\n",
              "    </tr>\n",
              "    <tr>\n",
              "      <th>8</th>\n",
              "      <td>1</td>\n",
              "      <td>9</td>\n",
              "      <td>2</td>\n",
              "      <td>1</td>\n",
              "      <td>3</td>\n",
              "      <td>-2.302585</td>\n",
              "      <td>0.1</td>\n",
              "      <td>7</td>\n",
              "    </tr>\n",
              "    <tr>\n",
              "      <th>9</th>\n",
              "      <td>1</td>\n",
              "      <td>10</td>\n",
              "      <td>3</td>\n",
              "      <td>1</td>\n",
              "      <td>4</td>\n",
              "      <td>-2.302585</td>\n",
              "      <td>0.1</td>\n",
              "      <td>13</td>\n",
              "    </tr>\n",
              "  </tbody>\n",
              "</table>\n",
              "</div>"
            ],
            "text/plain": [
              "   firmID  time  state  action  next_state      logL    L  label\n",
              "0       1     1      2       1           3 -2.302585  0.1      7\n",
              "1       1     2      3       0           3 -0.223144  0.8     12\n",
              "2       1     3      3       0           3 -0.223144  0.8     12\n",
              "3       1     4      3       0           3 -0.223144  0.8     12\n",
              "4       1     5      3       0           3 -0.223144  0.8     12\n",
              "5       1     6      3       0           3 -0.223144  0.8     12\n",
              "6       1     7      3       0           2 -1.609438  0.2     11\n",
              "7       1     8      2       0           2 -0.223144  0.8      6\n",
              "8       1     9      2       1           3 -2.302585  0.1      7\n",
              "9       1    10      3       1           4 -2.302585  0.1     13"
            ]
          },
          "metadata": {
            "tags": []
          },
          "execution_count": 8
        }
      ]
    },
    {
      "cell_type": "markdown",
      "metadata": {
        "id": "l8rFhcGgys_0",
        "colab_type": "text"
      },
      "source": [
        "# Chapter 2: Estimate the transition probability"
      ]
    },
    {
      "cell_type": "code",
      "metadata": {
        "id": "TiS6MBt5r2kL",
        "colab_type": "code",
        "colab": {}
      },
      "source": [
        "def NLL(theta3):\n",
        "    # Transition prob. matrices\n",
        "    P0 = np.eye(5, dtype = float) - theta3[0]*np.eye(5, dtype = float)\n",
        "    P0[0,0] = 1\n",
        "    kap = np.eye(4, dtype = float)*theta3[0]\n",
        "    kap = np.insert(np.insert(kap, obj = 0, values = 0, axis = 0), obj = 4, values = 0, axis = 1) # 4 * 4 -> 5 * 4 -> 5 * 5\n",
        "    P0 += kap # defined transition prob. matrix when a = 0\n",
        "\n",
        "    gam = np.eye(4, dtype = float)*theta3[1]\n",
        "    gam_center = np.insert(np.insert(gam, obj = 4, values = 0, axis = 0), obj = 4, values = 0, axis = 1)\n",
        "    gam_up = np.insert(np.insert(gam, obj = 0, values = 0, axis = 1), obj = 4, values = 0, axis = 0)\n",
        "    P1 = P0 - gam_center + gam_up # defined transition prob. matrix when a = 1\n",
        "    dat['next_state'] = dat['state'].shift(periods = -1, axis = 0)\n",
        "    data_trans = dat[dat['time'] != 100]\n",
        "    data_trans = data_trans.astype('int8')\n",
        "    data_trans['logL'] = np.where(data_trans['action'] == 1, np_log(P1[data_trans['state'].astype('int8') -1, data_trans['next_state'].astype('int8')-1]), np_log(P0[data_trans['state'].astype('int8')-1, data_trans['next_state'].astype('int8')-1]))\n",
        "    data_trans['L'] = np.where(data_trans['action'] == 1, (P1[data_trans['state'].astype('int8') -1, data_trans['next_state'].astype('int8')-1]), (P0[data_trans['state'].astype('int8')-1, data_trans['next_state'].astype('int8')-1]))\n",
        "    data_trans['label'] = np.where(data_trans['action'] == 1, (P2[data_trans['state'].astype('int8') -1, data_trans['next_state'].astype('int8')-1]), (P2[data_trans['state'].astype('int8')-1, data_trans['next_state'].astype('int8')-1]))\n",
        "    logL = data_trans['logL'].sum()\n",
        "    return -logL\n"
      ],
      "execution_count": 0,
      "outputs": []
    },
    {
      "cell_type": "markdown",
      "metadata": {
        "id": "TOKN54V_r2kO",
        "colab_type": "text"
      },
      "source": [
        "### Optimization\n",
        "Pythonでの最適化はScipyのoptimizeパッケージを用いる。詳しい解説は[こちら](http://www.turbare.net/transl/scipy-lecture-notes/intro/scipy.html)\n",
        "\n",
        "多変数関数の最適化については、[公式の説明](https://docs.scipy.org/doc/scipy/reference/tutorial/optimize.html)が詳しい。"
      ]
    },
    {
      "cell_type": "markdown",
      "metadata": {
        "id": "AJw2do-br2kO",
        "colab_type": "text"
      },
      "source": [
        "#### Linear constraints:"
      ]
    },
    {
      "cell_type": "markdown",
      "metadata": {
        "id": "5h_fEOpor2kP",
        "colab_type": "text"
      },
      "source": [
        "\\begin{align}\n",
        "\\begin{bmatrix}\n",
        "0 \\\\\n",
        "-1 \\\\\n",
        "-1\n",
        "\\end{bmatrix}\n",
        "\\leq\n",
        "\\begin{bmatrix}\n",
        "1 & 1 \\\\\n",
        "-1 & 0 \\\\\n",
        "0 & -1 \n",
        "\\end{bmatrix}\n",
        "\\begin{bmatrix}\n",
        "\\kappa \\\\\n",
        "\\gamma\n",
        "\\end{bmatrix}\n",
        "\\leq\n",
        "\\begin{bmatrix}\n",
        "1 \\\\\n",
        "0 \\\\\n",
        "0 \n",
        "\\end{bmatrix}\n",
        "\\end{align}"
      ]
    },
    {
      "cell_type": "code",
      "metadata": {
        "id": "sv8-wwPmr2kQ",
        "colab_type": "code",
        "outputId": "aed619b7-7471-4119-fd08-bc7c3b6198fe",
        "colab": {
          "base_uri": "https://localhost:8080/",
          "height": 71
        }
      },
      "source": [
        "from scipy.optimize import minimize\n",
        "# from scipy.optimize import Bounds\n",
        "from scipy.optimize import LinearConstraint\n",
        "\n",
        "lin_const = LinearConstraint([[1, 1], [-1, 0], [0, -1]], [0, -1, -1], [1, 0, 0])\n",
        "result = minimize(NLL, [0.1, 0.2], method = 'trust-constr', constraints = lin_const) # これはなぜ要素が２つなのか...?"
      ],
      "execution_count": 0,
      "outputs": [
        {
          "output_type": "stream",
          "text": [
            "/usr/local/lib/python3.6/dist-packages/scipy/optimize/_hessian_update_strategy.py:187: UserWarning: delta_grad == 0.0. Check if the approximated function is linear. If the function is linear better results can be obtained by defining the Hessian as zero instead of using quasi-Newton approximations.\n",
            "  'approximations.', UserWarning)\n"
          ],
          "name": "stderr"
        }
      ]
    },
    {
      "cell_type": "code",
      "metadata": {
        "id": "HH-hdnCMr2kW",
        "colab_type": "code",
        "outputId": "3ebcefd5-b54f-402f-dbe1-5ec1e3db3e58",
        "colab": {
          "base_uri": "https://localhost:8080/",
          "height": 34
        }
      },
      "source": [
        "print(result.x)\n"
      ],
      "execution_count": 0,
      "outputs": [
        {
          "output_type": "stream",
          "text": [
            "[0.09103848 0.53004492]\n"
          ],
          "name": "stdout"
        }
      ]
    },
    {
      "cell_type": "markdown",
      "metadata": {
        "id": "DoX6n_ijxrVi",
        "colab_type": "text"
      },
      "source": [
        "### Estimation result\n",
        "$$\n",
        "\\hat{\\kappa} = 0.09103848, \\qquad \\hat{\\gamma} = 0.53004492\n",
        "$$"
      ]
    },
    {
      "cell_type": "markdown",
      "metadata": {
        "id": "TCGHbeVGyHc_",
        "colab_type": "text"
      },
      "source": [
        "# Chapter 3: Let's compute Expected Value Function!\n"
      ]
    },
    {
      "cell_type": "markdown",
      "metadata": {
        "id": "VV1B-Jay_zec",
        "colab_type": "text"
      },
      "source": [
        "## Estimation procedure\n",
        "We want to estimate $\\theta_1$, that is maintenance cost parameters.\n",
        "1. Given $\\theta_1 = \\bar{\\theta}$, compute the expected value function by finding fixed point of $EV(s, a)$\n",
        "2. Given the value function, evaluate the objective function, which is given by\n",
        "$$\n",
        "\\begin{gather*}\n",
        "\\sum_{i = 1}^{N} \\sum_{t = 1}^{T} \n",
        "\\log\\left[\n",
        "P(a_{it} = 1 \\mid s_t, \\theta)^{a_{it}} \\cdot P(a_{it} = 0 \\mid s_t, \\theta)^{1 - a_{it}}\n",
        "\\right]\\\\\n",
        "\\sum_{i = 1}^{N} \\sum_{t = 1}^{T} \\left\\{\n",
        "a_{it} \\log\\left[\n",
        "P(a_{it} = 1 \\mid s_t, \\theta)\\right] \n",
        "+ (1- a_{it})\\log \\left[P(a_{it} = 0 \\mid s_t, \\theta)\n",
        "\\right]\n",
        "\\right\\}\n",
        "\\end{gather*}\n",
        "$$\n"
      ]
    },
    {
      "cell_type": "markdown",
      "metadata": {
        "id": "Qhj30cHTSedT",
        "colab_type": "text"
      },
      "source": [
        "### Nested fixed point algorithm of Expected Value Function\n",
        "Because $EV_\\theta (s, \\varepsilon, a) = EV_\\theta(s,a)$, we can rewrite the expected value function:\n"
      ]
    },
    {
      "cell_type": "markdown",
      "metadata": {
        "id": "IAGjHdYUS3-Z",
        "colab_type": "text"
      },
      "source": [
        "$$\n",
        "\\begin{gather*}\n",
        "EV_\\theta(s_t, a_t) = \n",
        "E\\left[\n",
        "\\max_{a_{t+1}} \\left\\{\n",
        "\\pi^{m}(s_{t+1}, a_{t+1}) + \\varepsilon_{t+1}(a_{t+1}) + \\delta EV_{\\theta}\n",
        "(s_{t+1}, a_{t+1})\n",
        "\\right\\} \\mid s_t, a_t\n",
        "\\right]\\\\\n",
        "= E_{s_{t+1}, \\varepsilon_{t+1}\\mid s_t, a_t} \\left[\n",
        "\\max_{a_{t+1}}\\left\\{\n",
        "\\pi^{m}(s_{t+1}, a_{t+1}) + \\varepsilon_{t+1}(a_{t+1}) + \\delta EV_{\\theta}\n",
        "(s_{t+1}, a_{t+1})\n",
        "\\right\\}\n",
        "\\right]\\\\\n",
        "= E_{s_{t+1}\\mid s_t, a_t}E_{\\varepsilon_{t+1} \\mid s_{t+1}, s_{t}, a_{t}}\n",
        "\\left[\\cdots\\right]\\\\\n",
        "= E_{s_{t+1}\\mid s_t, a_t} \\log\\left[\n",
        "\\sum_{a_{t+1}} \\exp \\left\\{\n",
        "\\pi^{m}(s_{t+1}, a_{t+1}) + \\delta EV_{\\theta}(s_{t+1}, a_{t+1})\n",
        "\\right\\}\n",
        "\\right]\n",
        "\\end{gather*}\n",
        "$$"
      ]
    },
    {
      "cell_type": "markdown",
      "metadata": {
        "id": "z536guhCUuMS",
        "colab_type": "text"
      },
      "source": [
        "Since $s_{t+1} \\sim P_{s_t, a_t}$, we obtain the following expression:\n",
        "if $(s_t, a_t) = (3, 1)$,\n",
        "$$\n",
        "EV_{\\theta}(3,1) =  \\gamma \\log\\left[ \\sum_{a_{t+1}} \\exp \\left\\{\\pi^{m}(4, a_{t+1}) + \\delta EV_{\\theta}(4, a_{t+1})\n",
        "\\right\\}\n",
        "\\right] \\\\\n",
        "+ (1 - \\kappa - \\gamma) \\log\\left[ \\sum_{a_{t+1}} \\exp \\left\\{\\pi^{m}(3, a_{t+1}) + \\delta EV_{\\theta}(3, a_{t+1})\n",
        "\\right\\}\n",
        "\\right] \\\\\n",
        "+ \\kappa \\log\\left[ \\sum_{a_{t+1}} \\exp \\left\\{\\pi^{m}(2, a_{t+1}) + \\delta EV_{\\theta}(2, a_{t+1})\n",
        "\\right\\}\n",
        "\\right]\n",
        "$$"
      ]
    },
    {
      "cell_type": "code",
      "metadata": {
        "id": "HI8hThzAXu2E",
        "colab_type": "code",
        "colab": {}
      },
      "source": [
        "kappa = result.x[0]\n",
        "gamma = result.x[1]\n",
        "delta = 0.95\n",
        "theta3 = [kappa, gamma]\n",
        "\n",
        "# Transition prob. matrices\n",
        "P0 = np.eye(5, dtype = float) - theta3[0]*np.eye(5, dtype = float)\n",
        "P0[0,0] = 1\n",
        "kap = np.eye(4, dtype = float)*theta3[0]\n",
        "kap = np.insert(np.insert(kap, obj = 0, values = 0, axis = 0), obj = 4, values = 0, axis = 1) # 4 * 4 -> 5 * 4 -> 5 * 5\n",
        "P0 += kap # defined transition prob. matrix when a = 0\n",
        "\n",
        "gam = np.eye(4, dtype = float)*theta3[1]\n",
        "gam_center = np.insert(np.insert(gam, obj = 4, values = 0, axis = 0), obj = 4, values = 0, axis = 1)\n",
        "gam_up = np.insert(np.insert(gam, obj = 0, values = 0, axis = 1), obj = 4, values = 0, axis = 0)\n",
        "P1 = P0 - gam_center + gam_up # defined transition prob. matrix when a = 1"
      ],
      "execution_count": 0,
      "outputs": []
    },
    {
      "cell_type": "code",
      "metadata": {
        "id": "1MGhJrWYw1KY",
        "colab_type": "code",
        "colab": {}
      },
      "source": [
        "### EV[0:4] <- EV(hoge, 0), EV[5:9] <- EV(hoge, 1)\n",
        "EV = np.zeros(10) # container of values of expected value function.\n",
        "init_theta1 = [2,2]"
      ],
      "execution_count": 0,
      "outputs": []
    },
    {
      "cell_type": "code",
      "metadata": {
        "id": "A7z3HqR1_akq",
        "colab_type": "code",
        "colab": {}
      },
      "source": [
        "def new_value_func(EV, theta1):\n",
        "  alpha = theta1[0]\n",
        "  beta = theta1[1]\n",
        "  num_s = len(EV)\n",
        "  mean_pi_0 = np.array(range(num_s // 2))\n",
        "  mean_pi_0 = np.log(mean_pi_0 + 1) * alpha\n",
        "  mean_pi_1 = mean_pi_0 - beta\n",
        "  EV_0 = EV[0:num_s//2]\n",
        "  EV_1 = EV[num_s//2:num_s]\n",
        "  \n",
        "  ### calculate RHS.\n",
        "  inside_bracket =np.exp(mean_pi_0 + delta* EV_0) + np.exp(mean_pi_1 + delta*EV_1)\n",
        "  V = np_log(inside_bracket)\n",
        "  EV_new_0 = np.matmul(P0, V)\n",
        "  EV_new_1 = np.matmul(P1, V)\n",
        "  diff = np.append(EV_new_0 - EV_0, EV_new_1 - EV_1)\n",
        "  supdiff = np.max(np.abs(diff))\n",
        "  return np.concatenate([EV_new_0, EV_new_1], axis = 0), supdiff\n",
        "\n",
        "def inner_loop(init, theta1, x_tol = 1e-8, max_iter = 5000):\n",
        "  EV_old = init\n",
        "  success = False\n",
        "  iteration = 0\n",
        "  while (~(success) & (iteration < max_iter)):\n",
        "    EV_new, diff = new_value_func(EV_old, theta1)\n",
        "    success = (diff < x_tol)\n",
        "    iteration += 1\n",
        "    EV_old = EV_new\n",
        "  if ~(success):\n",
        "    print('Inner loop did not converge in {} iterations. Final difference is {:.3e}.'.format(iteration, diff))\n",
        "  return EV_new"
      ],
      "execution_count": 0,
      "outputs": []
    },
    {
      "cell_type": "code",
      "metadata": {
        "id": "6M9cCAKcjbsG",
        "colab_type": "code",
        "outputId": "cf465f38-e4a6-4131-a185-9ae54d3deafa",
        "colab": {
          "base_uri": "https://localhost:8080/",
          "height": 68
        }
      },
      "source": [
        "new_value_func(EV, init_theta1)"
      ],
      "execution_count": 0,
      "outputs": [
        {
          "output_type": "execute_result",
          "data": {
            "text/plain": [
              "(array([0.12692801, 1.38701624, 2.25032673, 2.84713646, 3.30517454,\n",
              "        0.86172629, 1.81684568, 2.55529557, 3.08368867, 3.30517454]),\n",
              " 3.305174535833593)"
            ]
          },
          "metadata": {
            "tags": []
          },
          "execution_count": 52
        }
      ]
    },
    {
      "cell_type": "code",
      "metadata": {
        "id": "8qcR9r4rjknP",
        "colab_type": "code",
        "outputId": "e477064c-58e2-4bdf-c12c-8ddcd6c66794",
        "colab": {
          "base_uri": "https://localhost:8080/",
          "height": 34
        }
      },
      "source": [
        "EV_new = inner_loop(EV, init_theta1) "
      ],
      "execution_count": 0,
      "outputs": [
        {
          "output_type": "stream",
          "text": [
            "Inner loop converged!  Num Iteration:382  difference:9.5406e-09\n"
          ],
          "name": "stdout"
        }
      ]
    },
    {
      "cell_type": "code",
      "metadata": {
        "id": "fzI7Srxtuk97",
        "colab_type": "code",
        "colab": {}
      },
      "source": [
        "def get_logL(EV, theta1):\n",
        "  alpha = theta1[0]\n",
        "  beta = theta1[1]\n",
        "  num_s = len(EV)\n",
        "  mean_pi_0 = np.array(range(num_s // 2))\n",
        "  mean_pi_0 = np.log(mean_pi_0 + 1) * alpha\n",
        "  mean_pi_1 = mean_pi_0 - beta\n",
        "  EV_0 = EV[0:num_s//2]\n",
        "  EV_1 = EV[num_s//2:num_s]\n",
        "  numerator_0 = mean_pi_0 + delta*EV_0\n",
        "  numerator_1 = mean_pi_1 + delta*EV_1\n",
        "  denom =np_log(np.exp(numerator_0) + np.exp(numerator_1))\n",
        "  \n",
        "  logL = np.append(numerator_0 - denom, numerator_1 - denom, axis = 0)\n",
        "  return logL\n",
        "\n",
        "def calc_object(EV, theta1):\n",
        "  logL = get_logL(EV, theta1)\n",
        "  data_trans['object'] = logL[data_trans['state']-1 + data_trans['action']*5]\n",
        "  Object = data_trans['object'].sum(axis = 0)\n",
        "  return -Object"
      ],
      "execution_count": 0,
      "outputs": []
    },
    {
      "cell_type": "code",
      "metadata": {
        "id": "4VHma_as3d0a",
        "colab_type": "code",
        "colab": {}
      },
      "source": [
        "nlog_likelihood = calc_object(EV_new, init_theta1)"
      ],
      "execution_count": 0,
      "outputs": []
    },
    {
      "cell_type": "code",
      "metadata": {
        "id": "v6-C6JaF3xOl",
        "colab_type": "code",
        "outputId": "091e1091-5d56-4234-959c-7280a69895dc",
        "colab": {
          "base_uri": "https://localhost:8080/",
          "height": 34
        }
      },
      "source": [
        "print(nlog_likelihood)"
      ],
      "execution_count": 0,
      "outputs": [
        {
          "output_type": "stream",
          "text": [
            "90604.40155885558\n"
          ],
          "name": "stdout"
        }
      ]
    },
    {
      "cell_type": "code",
      "metadata": {
        "id": "tJrPOgL047BZ",
        "colab_type": "code",
        "colab": {}
      },
      "source": [
        "def valuated_func(theta1):\n",
        "  EV_init = np.zeros(10)\n",
        "  EV_new = inner_loop(EV_init, theta1)\n",
        "  nll = calc_object(EV_new, theta1)\n",
        "  return nll\n",
        "\n",
        "def outer_loop(max_iter = 5000):\n",
        "  init_theta1 = [2,2]\n",
        "  lin_const_out = LinearConstraint([[1, 0], [0, 1]], [0, 0], [np.inf, np.inf])\n",
        "  result = minimize(valuated_func, init_theta1, method = 'trust-constr', constraints = lin_const_out) # これはなぜ要素が２つなのか...?\n",
        "  return result\n",
        "  "
      ],
      "execution_count": 0,
      "outputs": []
    },
    {
      "cell_type": "code",
      "metadata": {
        "id": "oc0AT7YQ86SN",
        "colab_type": "code",
        "outputId": "c78c9605-2b8c-418d-f5b5-67a25a06b1a9",
        "colab": {
          "base_uri": "https://localhost:8080/",
          "height": 510
        }
      },
      "source": [
        "outer_result = outer_loop()\n",
        "print(outer_result)"
      ],
      "execution_count": 0,
      "outputs": [
        {
          "output_type": "stream",
          "text": [
            " barrier_parameter: 2.048000000000001e-09\n",
            " barrier_tolerance: 2.048000000000001e-09\n",
            "          cg_niter: 169\n",
            "      cg_stop_cond: 2\n",
            "            constr: [array([0.5501375 , 3.01088499])]\n",
            "       constr_nfev: [0]\n",
            "       constr_nhev: [0]\n",
            "       constr_njev: [0]\n",
            "    constr_penalty: 1.0\n",
            "  constr_violation: 0.0\n",
            "    execution_time: 4.815604209899902\n",
            "               fun: 39963.836917078384\n",
            "              grad: array([0.00195312, 0.00129738])\n",
            "               jac: [array([[1, 0],\n",
            "       [0, 1]])]\n",
            "   lagrangian_grad: array([0.00045378, 0.00116848])\n",
            "           message: '`xtol` termination condition is satisfied.'\n",
            "            method: 'tr_interior_point'\n",
            "              nfev: 225\n",
            "              nhev: 0\n",
            "               nit: 110\n",
            "             niter: 110\n",
            "              njev: 0\n",
            "        optimality: 0.0011684811404220757\n",
            "            status: 2\n",
            "           success: True\n",
            "         tr_radius: 9.174819772526787e-09\n",
            "                 v: [array([-0.00149935, -0.00012889])]\n",
            "                 x: array([0.5501375 , 3.01088499])\n"
          ],
          "name": "stdout"
        }
      ]
    },
    {
      "cell_type": "code",
      "metadata": {
        "id": "k-gPTyMH4Gvr",
        "colab_type": "code",
        "colab": {}
      },
      "source": [
        "class Rust:\n",
        "  def __init__(self, delta = 0.95):\n",
        "    self.kappa = 0.2\n",
        "    self.gamma = 0.1\n",
        "    self.delta = delta\n",
        "    self.theta1 = [2,2]\n",
        "    self.theta3 = [self.kappa, self.gamma]\n",
        "    self.EV_init = np.zeros(10)\n",
        "    self.EV = np.zeros(10) # Initial value\n",
        "    \n",
        "  def NLL(self, theta3):\n",
        "    self.theta3 = theta3\n",
        "    # Transition prob. matrices\n",
        "    self.P0 = np.eye(5, dtype = float) - self.theta3[0]*np.eye(5, dtype = float)\n",
        "    self.P0[0,0] = 1\n",
        "    kap = np.eye(4, dtype = float)*self.theta3[0]\n",
        "    kap = np.insert(np.insert(kap, obj = 0, values = 0, axis = 0), obj = 4, values = 0, axis = 1) # 4 * 4 -> 5 * 4 -> 5 * 5\n",
        "    self.P0 += kap # defined transition prob. matrix when a = 0\n",
        "    # define P1\n",
        "    gam = np.eye(4, dtype = float)*self.theta3[1]\n",
        "    gam_center = np.insert(np.insert(gam, obj = 4, values = 0, axis = 0), obj = 4, values = 0, axis = 1)\n",
        "    gam_up = np.insert(np.insert(gam, obj = 0, values = 0, axis = 1), obj = 4, values = 0, axis = 0)\n",
        "    self.P1 = self.P0 - gam_center + gam_up # defined transition prob. matrix when a = 1\n",
        "    # calculate negative log-likelihood\n",
        "    dat['next_state'] = dat['state'].shift(periods = -1, axis = 0)\n",
        "    data_trans = dat[dat['time'] != 100]\n",
        "    data_trans = data_trans.astype('int8')\n",
        "    data_trans['logL'] = np.where(data_trans['action'] == 1, np_log(self.P1[data_trans['state'].astype('int8') -1, data_trans['next_state'].astype('int8')-1]), np_log(self.P0[data_trans['state'].astype('int8')-1, data_trans['next_state'].astype('int8')-1]))\n",
        "    data_trans['L'] = np.where(data_trans['action'] == 1, (self.P1[data_trans['state'].astype('int8') -1, data_trans['next_state'].astype('int8')-1]), (self.P0[data_trans['state'].astype('int8')-1, data_trans['next_state'].astype('int8')-1]))\n",
        "    logL = data_trans['logL'].sum()\n",
        "    return -logL\n",
        "  \n",
        "  def fit_NLL(self):\n",
        "    lin_const = LinearConstraint([[1, 1], [-1, 0], [0, -1]], [0, -1, -1], [1, 0, 0])\n",
        "    result = minimize(self.NLL, [0.1, 0.2], method = 'trust-constr', constraints = lin_const) # これはなぜ要素が２つなのか...?\n",
        "    return result\n",
        "  \n",
        "  def new_value_func(self, EV, theta1):\n",
        "    alpha = theta1[0]\n",
        "    beta = theta1[1]\n",
        "    num_s = len(EV)\n",
        "    mean_pi_0 = np.array(range(num_s // 2))\n",
        "    mean_pi_0 = np.log(mean_pi_0 + 1) * alpha\n",
        "    mean_pi_1 = mean_pi_0 - beta\n",
        "    EV_0 = EV[0:num_s//2]\n",
        "    EV_1 = EV[num_s//2:num_s]\n",
        "\n",
        "    ### calculate RHS.\n",
        "    inside_bracket =np.exp(mean_pi_0 + delta* EV_0) + np.exp(mean_pi_1 + delta*EV_1)\n",
        "    V = np_log(inside_bracket)\n",
        "    EV_new_0 = np.matmul(P0, V)\n",
        "    EV_new_1 = np.matmul(P1, V)\n",
        "    diff = np.append(EV_new_0 - EV_0, EV_new_1 - EV_1)\n",
        "    supdiff = np.max(np.abs(diff))\n",
        "    return np.concatenate([EV_new_0, EV_new_1], axis = 0), supdiff\n",
        "\n",
        "  def inner_loop(self, init, theta1, x_tol = 1e-8, max_iter = 5000):\n",
        "    EV_old = init\n",
        "    success = False\n",
        "    iteration = 0\n",
        "    while (~(success) & (iteration < max_iter)):\n",
        "      EV_new, diff = self.new_value_func(EV_old, theta1)\n",
        "      success = (diff < x_tol)\n",
        "      iteration += 1\n",
        "      EV_old = EV_new\n",
        "    if ~(success):\n",
        "      print('Inner loop did not converge in {} iterations. Final difference is {:.3e}.'.format(iteration, diff))\n",
        "    return EV_new\n",
        "  \n",
        "  def get_logL(self, EV, theta1):\n",
        "    alpha = theta1[0]\n",
        "    beta = theta1[1]\n",
        "    num_s = len(EV)\n",
        "    mean_pi_0 = np.array(range(num_s // 2))\n",
        "    mean_pi_0 = np.log(mean_pi_0 + 1) * alpha\n",
        "    mean_pi_1 = mean_pi_0 - beta\n",
        "    EV_0 = EV[0:num_s//2]\n",
        "    EV_1 = EV[num_s//2:num_s]\n",
        "    numerator_0 = mean_pi_0 + delta*EV_0\n",
        "    numerator_1 = mean_pi_1 + delta*EV_1\n",
        "    denom =np_log(np.exp(numerator_0) + np.exp(numerator_1))\n",
        "    logL = np.append(numerator_0 - denom, numerator_1 - denom, axis = 0)\n",
        "    return logL\n",
        "\n",
        "  def calc_object(self, EV, theta1):\n",
        "    logL = self.get_logL(EV, theta1)\n",
        "    data_trans['object'] = logL[data_trans['state']-1 + data_trans['action']*5]\n",
        "    Object = data_trans['object'].sum(axis = 0)\n",
        "    return -Object\n",
        "  \n",
        "  def valuated_func(self, theta1):\n",
        "    self.EV = self.inner_loop(self.EV_init, theta1)\n",
        "    nll = self.calc_object(self.EV, theta1)\n",
        "    return nll\n",
        "\n",
        "  def outer_loop(self, max_iter = 5000):\n",
        "    lin_const_out = LinearConstraint([[1, 0], [0, 1]], [0, 0], [np.inf, np.inf])\n",
        "    result = minimize(self.valuated_func, self.theta1, method = 'trust-constr', constraints = lin_const_out) # これはなぜ要素が２つなのか...?\n",
        "    return result"
      ],
      "execution_count": 0,
      "outputs": []
    },
    {
      "cell_type": "code",
      "metadata": {
        "id": "uI4t6dbmwtwK",
        "colab_type": "code",
        "colab": {}
      },
      "source": [
        ""
      ],
      "execution_count": 0,
      "outputs": []
    }
  ]
}